{
 "cells": [
  {
   "cell_type": "code",
   "execution_count": 35,
   "metadata": {},
   "outputs": [],
   "source": [
    "import re\n",
    "st='Python is a funny Language and was came into ExisTence in 1991'"
   ]
  },
  {
   "cell_type": "code",
   "execution_count": 5,
   "metadata": {},
   "outputs": [],
   "source": [
    "# data cleaning "
   ]
  },
  {
   "cell_type": "code",
   "execution_count": 56,
   "metadata": {
    "collapsed": true,
    "jupyter": {
     "outputs_hidden": true
    }
   },
   "outputs": [
    {
     "name": "stdout",
     "output_type": "stream",
     "text": [
      "<re.Match object; span=(0, 1), match='P'>\n",
      "<re.Match object; span=(1, 2), match='y'>\n",
      "<re.Match object; span=(2, 3), match='t'>\n",
      "<re.Match object; span=(3, 4), match='h'>\n",
      "<re.Match object; span=(4, 5), match='o'>\n",
      "<re.Match object; span=(5, 6), match='n'>\n",
      "<re.Match object; span=(7, 8), match='i'>\n",
      "<re.Match object; span=(8, 9), match='s'>\n",
      "<re.Match object; span=(10, 11), match='a'>\n",
      "<re.Match object; span=(12, 13), match='f'>\n",
      "<re.Match object; span=(13, 14), match='u'>\n",
      "<re.Match object; span=(14, 15), match='n'>\n",
      "<re.Match object; span=(15, 16), match='n'>\n",
      "<re.Match object; span=(16, 17), match='y'>\n",
      "<re.Match object; span=(18, 19), match='L'>\n",
      "<re.Match object; span=(19, 20), match='a'>\n",
      "<re.Match object; span=(20, 21), match='n'>\n",
      "<re.Match object; span=(21, 22), match='g'>\n",
      "<re.Match object; span=(22, 23), match='u'>\n",
      "<re.Match object; span=(23, 24), match='a'>\n",
      "<re.Match object; span=(24, 25), match='g'>\n",
      "<re.Match object; span=(25, 26), match='e'>\n",
      "<re.Match object; span=(27, 28), match='a'>\n",
      "<re.Match object; span=(28, 29), match='n'>\n",
      "<re.Match object; span=(29, 30), match='d'>\n",
      "<re.Match object; span=(31, 32), match='w'>\n",
      "<re.Match object; span=(32, 33), match='a'>\n",
      "<re.Match object; span=(33, 34), match='s'>\n",
      "<re.Match object; span=(35, 36), match='c'>\n",
      "<re.Match object; span=(36, 37), match='a'>\n",
      "<re.Match object; span=(37, 38), match='m'>\n",
      "<re.Match object; span=(38, 39), match='e'>\n",
      "<re.Match object; span=(40, 41), match='i'>\n",
      "<re.Match object; span=(41, 42), match='n'>\n",
      "<re.Match object; span=(42, 43), match='t'>\n",
      "<re.Match object; span=(43, 44), match='o'>\n",
      "<re.Match object; span=(45, 46), match='E'>\n",
      "<re.Match object; span=(46, 47), match='x'>\n",
      "<re.Match object; span=(47, 48), match='i'>\n",
      "<re.Match object; span=(48, 49), match='s'>\n",
      "<re.Match object; span=(49, 50), match='T'>\n",
      "<re.Match object; span=(50, 51), match='e'>\n",
      "<re.Match object; span=(51, 52), match='n'>\n",
      "<re.Match object; span=(52, 53), match='c'>\n",
      "<re.Match object; span=(53, 54), match='e'>\n",
      "<re.Match object; span=(55, 56), match='i'>\n",
      "<re.Match object; span=(56, 57), match='n'>\n",
      "<re.Match object; span=(58, 59), match='1'>\n",
      "<re.Match object; span=(59, 60), match='9'>\n",
      "<re.Match object; span=(60, 61), match='9'>\n",
      "<re.Match object; span=(61, 62), match='1'>\n"
     ]
    }
   ],
   "source": [
    "#itr=re.finditer('u',st)\n",
    "#itr=re.finditer('u[a-z]',st)\n",
    "#itr=re.finditer('[a-z]u[a-z]',st)\n",
    "#itr=re.finditer('[a-z][aeiou]',st)\n",
    "#itr=re.finditer('[a-zA-Z][aeiou]',st)\n",
    "#itr=re.finditer('[a-zA-Z][aeiou][a-zA-Z]',st)\n",
    "#itr=re.finditer('[aeiou][a-z][a-z][a-z]',st)\n",
    "#itr=re.finditer('[aeiou][a-z]{3}',st) # curly braces represents repetations \n",
    "#itr=re.finditer('[aeiou][a-z]{1,3}',st)  # min\n",
    "#itr=re.finditer('[aeiou][a-z]*',st)  # to perform iteration we also use *({0-n} biggest repeation )\n",
    "#itr=re.finditer('[aeiou][a-z]+',st)  # to perform iteration we also use +({1-n} biggest repeation )\n",
    "#itr=re.finditer('[aeiou][a-z]?',st)  # to perform iteration we also use ?({0,1} biggest repeation )\n",
    "#itr=re.finditer('[^0-9]',st)\n",
    "#itr=re.finditer('\\D',st)\n",
    "#itr=re.finditer('\\s',st)    # to signify space \n",
    "#itr=re.finditer('\\S',st)     # to signigy everything other than space\n",
    "#itr=re.finditer('\\w',st)     # matches everything a-z A-Z _ and digits\n",
    "\n",
    "for match in itr:\n",
    "    print(match)"
   ]
  },
  {
   "cell_type": "code",
   "execution_count": 14,
   "metadata": {},
   "outputs": [],
   "source": [
    "# . means any character in regular expression \n",
    "\n",
    "\n",
    "\n",
    "\n",
    "# the finditer keep things inside a buffer "
   ]
  },
  {
   "cell_type": "code",
   "execution_count": 34,
   "metadata": {},
   "outputs": [
    {
     "data": {
      "text/plain": [
       "'lan'"
      ]
     },
     "execution_count": 34,
     "metadata": {},
     "output_type": "execute_result"
    }
   ],
   "source": [
    "st[18:2]"
   ]
  },
  {
   "cell_type": "code",
   "execution_count": 58,
   "metadata": {},
   "outputs": [
    {
     "name": "stdout",
     "output_type": "stream",
     "text": [
      "<re.Match object; span=(1, 6), match='ython'>\n"
     ]
    }
   ],
   "source": [
    "match=re.search('[a-z]+',st) # first time match \n",
    "print(match)"
   ]
  },
  {
   "cell_type": "code",
   "execution_count": 59,
   "metadata": {},
   "outputs": [
    {
     "name": "stdout",
     "output_type": "stream",
     "text": [
      "None\n"
     ]
    }
   ],
   "source": [
    "match=re.match('[a-z]+',st)\n",
    "print(match)"
   ]
  },
  {
   "cell_type": "code",
   "execution_count": 62,
   "metadata": {},
   "outputs": [
    {
     "name": "stdin",
     "output_type": "stream",
     "text": [
      "inter mobile 810870389\n"
     ]
    },
    {
     "name": "stdout",
     "output_type": "stream",
     "text": [
      "invalid\n"
     ]
    }
   ],
   "source": [
    "number =input('inter mobile')\n",
    "match = re.match('[6-9][0-9]{9}$',number)\n",
    "if match == None:\n",
    "    print('invalid')\n",
    "else:\n",
    "    print(number,'valid')\n",
    "\n",
    "\n"
   ]
  },
  {
   "cell_type": "code",
   "execution_count": 74,
   "metadata": {},
   "outputs": [
    {
     "data": {
      "text/plain": [
       "'!\"#$%&\\'()*+,-./:;<=>?@[\\\\]^_`{|}~'"
      ]
     },
     "execution_count": 74,
     "metadata": {},
     "output_type": "execute_result"
    }
   ],
   "source": [
    "# text cleaning \n",
    "import string \n",
    "string.punctuation"
   ]
  },
  {
   "cell_type": "code",
   "execution_count": 85,
   "metadata": {},
   "outputs": [],
   "source": [
    "text='asbdbn kjiasn m kandxiuba po  p P Platform $^T&U&% dnj 2454 45 64 232d {:P{}}'"
   ]
  },
  {
   "cell_type": "code",
   "execution_count": 86,
   "metadata": {},
   "outputs": [
    {
     "data": {
      "text/plain": [
       "'asbdbn kjiasn m kandxiuba po  p P Platform TU dnj    d P'"
      ]
     },
     "execution_count": 86,
     "metadata": {},
     "output_type": "execute_result"
    }
   ],
   "source": [
    "re.sub(f'[{st.punctuation}\\d]','',text)"
   ]
  },
  {
   "cell_type": "code",
   "execution_count": 87,
   "metadata": {},
   "outputs": [
    {
     "name": "stdout",
     "output_type": "stream",
     "text": [
      "<re.Match object; span=(26, 27), match='p'>\n",
      "<re.Match object; span=(30, 31), match='p'>\n",
      "<re.Match object; span=(32, 33), match='P'>\n",
      "<re.Match object; span=(34, 35), match='P'>\n",
      "<re.Match object; span=(73, 74), match='P'>\n"
     ]
    }
   ],
   "source": [
    "itr=re.finditer('p+',text,re.IGNORECASE)\n",
    "for match in itr:\n",
    "    print(match)"
   ]
  },
  {
   "cell_type": "code",
   "execution_count": null,
   "metadata": {},
   "outputs": [],
   "source": []
  }
 ],
 "metadata": {
  "kernelspec": {
   "display_name": "Python 3",
   "language": "python",
   "name": "python3"
  },
  "language_info": {
   "codemirror_mode": {
    "name": "ipython",
    "version": 3
   },
   "file_extension": ".py",
   "mimetype": "text/x-python",
   "name": "python",
   "nbconvert_exporter": "python",
   "pygments_lexer": "ipython3",
   "version": "3.8.3"
  }
 },
 "nbformat": 4,
 "nbformat_minor": 4
}
